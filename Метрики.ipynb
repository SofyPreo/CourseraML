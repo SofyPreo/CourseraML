{
 "cells": [
  {
   "cell_type": "code",
   "execution_count": 1,
   "metadata": {},
   "outputs": [],
   "source": [
    "import numpy as np\n",
    "import pandas as pd\n",
    "from sklearn.metrics import roc_auc_score"
   ]
  },
  {
   "cell_type": "code",
   "execution_count": 64,
   "metadata": {},
   "outputs": [
    {
     "data": {
      "text/plain": [
       "array([[1., 0.],\n",
       "       [1., 1.],\n",
       "       [1., 1.],\n",
       "       [0., 0.],\n",
       "       [1., 1.],\n",
       "       [1., 1.],\n",
       "       [1., 1.],\n",
       "       [0., 1.],\n",
       "       [0., 0.],\n",
       "       [0., 1.],\n",
       "       [1., 0.],\n",
       "       [0., 1.],\n",
       "       [1., 1.],\n",
       "       [0., 1.],\n",
       "       [0., 0.],\n",
       "       [0., 1.],\n",
       "       [1., 1.],\n",
       "       [0., 1.],\n",
       "       [0., 0.],\n",
       "       [0., 0.],\n",
       "       [0., 1.],\n",
       "       [1., 1.],\n",
       "       [1., 1.],\n",
       "       [1., 0.],\n",
       "       [0., 0.],\n",
       "       [0., 0.],\n",
       "       [1., 1.],\n",
       "       [1., 1.],\n",
       "       [0., 0.],\n",
       "       [1., 0.],\n",
       "       [1., 0.],\n",
       "       [1., 1.],\n",
       "       [0., 0.],\n",
       "       [0., 0.],\n",
       "       [1., 1.],\n",
       "       [0., 1.],\n",
       "       [0., 0.],\n",
       "       [1., 1.],\n",
       "       [0., 0.],\n",
       "       [1., 0.],\n",
       "       [0., 1.],\n",
       "       [0., 1.],\n",
       "       [1., 1.],\n",
       "       [0., 1.],\n",
       "       [1., 0.],\n",
       "       [0., 0.],\n",
       "       [0., 0.],\n",
       "       [1., 0.],\n",
       "       [0., 0.],\n",
       "       [1., 1.],\n",
       "       [1., 0.],\n",
       "       [0., 0.],\n",
       "       [1., 0.],\n",
       "       [1., 0.],\n",
       "       [0., 0.],\n",
       "       [1., 0.],\n",
       "       [1., 0.],\n",
       "       [1., 0.],\n",
       "       [1., 0.],\n",
       "       [1., 0.],\n",
       "       [1., 1.],\n",
       "       [0., 0.],\n",
       "       [1., 1.],\n",
       "       [1., 1.],\n",
       "       [0., 0.],\n",
       "       [1., 0.],\n",
       "       [1., 0.],\n",
       "       [1., 1.],\n",
       "       [0., 0.],\n",
       "       [0., 1.],\n",
       "       [1., 0.],\n",
       "       [0., 0.],\n",
       "       [0., 1.],\n",
       "       [1., 1.],\n",
       "       [0., 1.],\n",
       "       [0., 0.],\n",
       "       [0., 1.],\n",
       "       [0., 0.],\n",
       "       [0., 0.],\n",
       "       [0., 0.],\n",
       "       [1., 0.],\n",
       "       [1., 1.],\n",
       "       [1., 1.],\n",
       "       [1., 1.],\n",
       "       [1., 1.],\n",
       "       [0., 1.],\n",
       "       [0., 0.],\n",
       "       [1., 1.],\n",
       "       [1., 0.],\n",
       "       [0., 0.],\n",
       "       [1., 0.],\n",
       "       [1., 0.],\n",
       "       [1., 0.],\n",
       "       [0., 0.],\n",
       "       [1., 1.],\n",
       "       [1., 0.],\n",
       "       [0., 0.],\n",
       "       [1., 1.],\n",
       "       [1., 0.],\n",
       "       [1., 0.],\n",
       "       [1., 0.],\n",
       "       [1., 0.],\n",
       "       [1., 1.],\n",
       "       [1., 0.],\n",
       "       [1., 0.],\n",
       "       [0., 1.],\n",
       "       [0., 1.],\n",
       "       [0., 0.],\n",
       "       [1., 1.],\n",
       "       [1., 0.],\n",
       "       [1., 1.],\n",
       "       [1., 0.],\n",
       "       [0., 0.],\n",
       "       [1., 0.],\n",
       "       [0., 1.],\n",
       "       [0., 0.],\n",
       "       [0., 1.],\n",
       "       [1., 0.],\n",
       "       [0., 0.],\n",
       "       [1., 1.],\n",
       "       [0., 0.],\n",
       "       [1., 1.],\n",
       "       [1., 1.],\n",
       "       [1., 0.],\n",
       "       [0., 0.],\n",
       "       [1., 1.],\n",
       "       [0., 0.],\n",
       "       [0., 0.],\n",
       "       [0., 0.],\n",
       "       [0., 1.],\n",
       "       [1., 0.],\n",
       "       [0., 0.],\n",
       "       [1., 1.],\n",
       "       [0., 1.],\n",
       "       [0., 0.],\n",
       "       [0., 1.],\n",
       "       [1., 0.],\n",
       "       [0., 0.],\n",
       "       [0., 1.],\n",
       "       [1., 0.],\n",
       "       [1., 1.],\n",
       "       [0., 0.],\n",
       "       [1., 0.],\n",
       "       [0., 1.],\n",
       "       [0., 0.],\n",
       "       [0., 0.],\n",
       "       [1., 1.],\n",
       "       [0., 1.],\n",
       "       [1., 0.],\n",
       "       [0., 0.],\n",
       "       [1., 0.],\n",
       "       [0., 0.],\n",
       "       [1., 0.],\n",
       "       [0., 1.],\n",
       "       [0., 1.],\n",
       "       [0., 1.],\n",
       "       [0., 0.],\n",
       "       [0., 0.],\n",
       "       [0., 0.],\n",
       "       [0., 0.],\n",
       "       [0., 0.],\n",
       "       [1., 1.],\n",
       "       [1., 1.],\n",
       "       [1., 0.],\n",
       "       [1., 0.],\n",
       "       [1., 0.],\n",
       "       [1., 0.],\n",
       "       [0., 1.],\n",
       "       [1., 1.],\n",
       "       [1., 0.],\n",
       "       [1., 1.],\n",
       "       [0., 0.],\n",
       "       [0., 0.],\n",
       "       [0., 0.],\n",
       "       [0., 0.],\n",
       "       [0., 0.],\n",
       "       [1., 0.],\n",
       "       [0., 1.],\n",
       "       [0., 0.],\n",
       "       [1., 0.],\n",
       "       [0., 1.],\n",
       "       [0., 0.],\n",
       "       [0., 0.],\n",
       "       [1., 0.],\n",
       "       [0., 1.],\n",
       "       [0., 0.],\n",
       "       [1., 0.],\n",
       "       [1., 0.],\n",
       "       [0., 0.],\n",
       "       [1., 0.],\n",
       "       [1., 0.],\n",
       "       [1., 0.],\n",
       "       [1., 0.],\n",
       "       [1., 1.],\n",
       "       [1., 0.],\n",
       "       [0., 0.],\n",
       "       [0., 0.],\n",
       "       [1., 0.],\n",
       "       [0., 1.],\n",
       "       [0., 0.]])"
      ]
     },
     "execution_count": 64,
     "metadata": {},
     "output_type": "execute_result"
    }
   ],
   "source": [
    "data = np.genfromtxt(r'S:\\Coursera\\Введение в машинное обучение\\Неделя 3\\Метрики\\classification.csv', delimiter=',', skip_header=1)\n",
    "data"
   ]
  },
  {
   "cell_type": "code",
   "execution_count": 68,
   "metadata": {},
   "outputs": [
    {
     "name": "stdout",
     "output_type": "stream",
     "text": [
      "<class 'pandas.core.frame.DataFrame'>\n",
      "RangeIndex: 200 entries, 0 to 199\n",
      "Data columns (total 2 columns):\n",
      " #   Column  Non-Null Count  Dtype\n",
      "---  ------  --------------  -----\n",
      " 0   true    200 non-null    int64\n",
      " 1   pred    200 non-null    int64\n",
      "dtypes: int64(2)\n",
      "memory usage: 3.2 KB\n"
     ]
    }
   ],
   "source": [
    "data_pd = pd.read_csv(r'S:\\Coursera\\Введение в машинное обучение\\Неделя 3\\Метрики\\classification.csv', header=0)\n",
    "data_pd.info()"
   ]
  },
  {
   "cell_type": "code",
   "execution_count": 18,
   "metadata": {},
   "outputs": [],
   "source": [
    "y = data[:, 0]\n",
    "preds = data[:, 1]"
   ]
  },
  {
   "cell_type": "code",
   "execution_count": 4,
   "metadata": {},
   "outputs": [
    {
     "data": {
      "text/plain": [
       "0"
      ]
     },
     "execution_count": 4,
     "metadata": {},
     "output_type": "execute_result"
    }
   ],
   "source": [
    "data_pd.iloc[0,1]"
   ]
  },
  {
   "cell_type": "code",
   "execution_count": 72,
   "metadata": {},
   "outputs": [],
   "source": [
    "arr = []\n",
    "length = data.shape[0]\n",
    "\n",
    "for i in range(length):\n",
    "    if data[i,0] == 1 and data[i,1] == 1:\n",
    "        s = 'TP'\n",
    "        arr.append(s)\n",
    "    if data[i,0] == 0 and data[i,1] == 0:\n",
    "        s = 'TN'\n",
    "        arr.append(s)\n",
    "    if data[i,0] == 1 and data[i,1] == 0:\n",
    "        s = 'FN'\n",
    "        arr.append(s)\n",
    "    if data[i,0] == 0 and data[i,1] == 1:\n",
    "        s = 'FP'\n",
    "        arr.append(s)"
   ]
  },
  {
   "cell_type": "code",
   "execution_count": 73,
   "metadata": {},
   "outputs": [
    {
     "data": {
      "text/plain": [
       "PR\n",
       "TN    64\n",
       "FN    59\n",
       "TP    43\n",
       "FP    34\n",
       "dtype: int64"
      ]
     },
     "execution_count": 73,
     "metadata": {},
     "output_type": "execute_result"
    }
   ],
   "source": [
    "arr = pd.DataFrame(arr, columns=['PR'])\n",
    "arr.value_counts()"
   ]
  },
  {
   "cell_type": "code",
   "execution_count": 10,
   "metadata": {},
   "outputs": [],
   "source": [
    "from sklearn.metrics import accuracy_score\n",
    "from sklearn.metrics import precision_score\n",
    "from sklearn.metrics import recall_score\n",
    "from sklearn.metrics import f1_score"
   ]
  },
  {
   "cell_type": "code",
   "execution_count": 28,
   "metadata": {},
   "outputs": [],
   "source": [
    "acc = accuracy_score(y, preds)"
   ]
  },
  {
   "cell_type": "code",
   "execution_count": 29,
   "metadata": {},
   "outputs": [],
   "source": [
    "p = precision_score(y, preds)"
   ]
  },
  {
   "cell_type": "code",
   "execution_count": 30,
   "metadata": {},
   "outputs": [],
   "source": [
    "r = recall_score(y, preds)"
   ]
  },
  {
   "cell_type": "code",
   "execution_count": 31,
   "metadata": {},
   "outputs": [],
   "source": [
    "f1 = f1_score(y, preds)"
   ]
  },
  {
   "cell_type": "code",
   "execution_count": 32,
   "metadata": {},
   "outputs": [
    {
     "name": "stdout",
     "output_type": "stream",
     "text": [
      "0.54 0.56 0.42 0.48 "
     ]
    }
   ],
   "source": [
    "metrics = [acc, p, r, f1]\n",
    "for i in metrics:\n",
    "    print(round(i, 2), end=' ')"
   ]
  },
  {
   "cell_type": "code",
   "execution_count": 37,
   "metadata": {},
   "outputs": [],
   "source": [
    "data_scores = np.genfromtxt(r'S:\\Coursera\\Введение в машинное обучение\\Неделя 3\\Метрики\\scores.csv', delimiter=',', skip_header=1)\n",
    "data_scores_pd = pd.read_csv(r'S:\\Coursera\\Введение в машинное обучение\\Неделя 3\\Метрики\\scores.csv', header=0)\n"
   ]
  },
  {
   "cell_type": "code",
   "execution_count": 38,
   "metadata": {},
   "outputs": [],
   "source": [
    "from sklearn.metrics import roc_auc_score"
   ]
  },
  {
   "cell_type": "code",
   "execution_count": 39,
   "metadata": {},
   "outputs": [
    {
     "data": {
      "text/html": [
       "<div>\n",
       "<style scoped>\n",
       "    .dataframe tbody tr th:only-of-type {\n",
       "        vertical-align: middle;\n",
       "    }\n",
       "\n",
       "    .dataframe tbody tr th {\n",
       "        vertical-align: top;\n",
       "    }\n",
       "\n",
       "    .dataframe thead th {\n",
       "        text-align: right;\n",
       "    }\n",
       "</style>\n",
       "<table border=\"1\" class=\"dataframe\">\n",
       "  <thead>\n",
       "    <tr style=\"text-align: right;\">\n",
       "      <th></th>\n",
       "      <th>true</th>\n",
       "      <th>score_logreg</th>\n",
       "      <th>score_svm</th>\n",
       "      <th>score_knn</th>\n",
       "      <th>score_tree</th>\n",
       "    </tr>\n",
       "  </thead>\n",
       "  <tbody>\n",
       "    <tr>\n",
       "      <th>0</th>\n",
       "      <td>0</td>\n",
       "      <td>0.683832</td>\n",
       "      <td>0.145976</td>\n",
       "      <td>0.787063</td>\n",
       "      <td>0.500000</td>\n",
       "    </tr>\n",
       "    <tr>\n",
       "      <th>1</th>\n",
       "      <td>1</td>\n",
       "      <td>0.801966</td>\n",
       "      <td>0.239511</td>\n",
       "      <td>1.000000</td>\n",
       "      <td>0.833333</td>\n",
       "    </tr>\n",
       "    <tr>\n",
       "      <th>2</th>\n",
       "      <td>0</td>\n",
       "      <td>0.382315</td>\n",
       "      <td>-0.245701</td>\n",
       "      <td>0.000000</td>\n",
       "      <td>0.000000</td>\n",
       "    </tr>\n",
       "    <tr>\n",
       "      <th>3</th>\n",
       "      <td>1</td>\n",
       "      <td>0.506797</td>\n",
       "      <td>-0.137058</td>\n",
       "      <td>0.000000</td>\n",
       "      <td>0.105263</td>\n",
       "    </tr>\n",
       "    <tr>\n",
       "      <th>4</th>\n",
       "      <td>1</td>\n",
       "      <td>0.488781</td>\n",
       "      <td>-0.154148</td>\n",
       "      <td>0.000000</td>\n",
       "      <td>0.105263</td>\n",
       "    </tr>\n",
       "    <tr>\n",
       "      <th>...</th>\n",
       "      <td>...</td>\n",
       "      <td>...</td>\n",
       "      <td>...</td>\n",
       "      <td>...</td>\n",
       "      <td>...</td>\n",
       "    </tr>\n",
       "    <tr>\n",
       "      <th>195</th>\n",
       "      <td>0</td>\n",
       "      <td>0.573801</td>\n",
       "      <td>-0.088203</td>\n",
       "      <td>0.284192</td>\n",
       "      <td>0.400000</td>\n",
       "    </tr>\n",
       "    <tr>\n",
       "      <th>196</th>\n",
       "      <td>0</td>\n",
       "      <td>0.624422</td>\n",
       "      <td>-0.012315</td>\n",
       "      <td>0.205437</td>\n",
       "      <td>0.400000</td>\n",
       "    </tr>\n",
       "    <tr>\n",
       "      <th>197</th>\n",
       "      <td>1</td>\n",
       "      <td>0.425538</td>\n",
       "      <td>-0.135673</td>\n",
       "      <td>0.382351</td>\n",
       "      <td>0.700000</td>\n",
       "    </tr>\n",
       "    <tr>\n",
       "      <th>198</th>\n",
       "      <td>0</td>\n",
       "      <td>0.905270</td>\n",
       "      <td>0.583806</td>\n",
       "      <td>1.000000</td>\n",
       "      <td>1.000000</td>\n",
       "    </tr>\n",
       "    <tr>\n",
       "      <th>199</th>\n",
       "      <td>0</td>\n",
       "      <td>0.275594</td>\n",
       "      <td>-0.422160</td>\n",
       "      <td>0.743567</td>\n",
       "      <td>0.642857</td>\n",
       "    </tr>\n",
       "  </tbody>\n",
       "</table>\n",
       "<p>200 rows × 5 columns</p>\n",
       "</div>"
      ],
      "text/plain": [
       "     true  score_logreg  score_svm  score_knn  score_tree\n",
       "0       0      0.683832   0.145976   0.787063    0.500000\n",
       "1       1      0.801966   0.239511   1.000000    0.833333\n",
       "2       0      0.382315  -0.245701   0.000000    0.000000\n",
       "3       1      0.506797  -0.137058   0.000000    0.105263\n",
       "4       1      0.488781  -0.154148   0.000000    0.105263\n",
       "..    ...           ...        ...        ...         ...\n",
       "195     0      0.573801  -0.088203   0.284192    0.400000\n",
       "196     0      0.624422  -0.012315   0.205437    0.400000\n",
       "197     1      0.425538  -0.135673   0.382351    0.700000\n",
       "198     0      0.905270   0.583806   1.000000    1.000000\n",
       "199     0      0.275594  -0.422160   0.743567    0.642857\n",
       "\n",
       "[200 rows x 5 columns]"
      ]
     },
     "execution_count": 39,
     "metadata": {},
     "output_type": "execute_result"
    }
   ],
   "source": [
    "data_scores_pd"
   ]
  },
  {
   "cell_type": "code",
   "execution_count": 45,
   "metadata": {},
   "outputs": [],
   "source": [
    "y = data_scores[:, 0]\n",
    "score_logreg = data_scores[:, 1]\n",
    "score_svm = data_scores[:, 2]\n",
    "score_knn = data_scores[:, 3]\n",
    "score_tree = data_scores[:, 4]\n",
    "metrics_proba = [score_logreg, score_svm, score_knn, score_tree]"
   ]
  },
  {
   "cell_type": "code",
   "execution_count": 47,
   "metadata": {},
   "outputs": [
    {
     "name": "stdout",
     "output_type": "stream",
     "text": [
      "0.719187675070028\n",
      "0.7086834733893557\n",
      "0.6351540616246498\n",
      "0.6919267707082833\n",
      "максимальная площадь 0.72\n"
     ]
    }
   ],
   "source": [
    "max_score = 0\n",
    "for i in metrics_proba:\n",
    "    score = roc_auc_score(y, i)\n",
    "    print(score)\n",
    "    if score > max_score:\n",
    "        max_score = score\n",
    "print('максимальная площадь', round(max_score, 2))\n",
    "    "
   ]
  },
  {
   "cell_type": "code",
   "execution_count": 58,
   "metadata": {},
   "outputs": [],
   "source": [
    "from sklearn.metrics import precision_recall_curve\n",
    "from sklearn.metrics import plot_precision_recall_curve\n",
    "import matplotlib.pyplot as plt\n",
    "\n"
   ]
  },
  {
   "cell_type": "code",
   "execution_count": 59,
   "metadata": {},
   "outputs": [
    {
     "data": {
      "text/plain": [
       "(array([0.49746193, 0.49489796, 0.49230769, 0.49484536, 0.49740933,\n",
       "        0.49479167, 0.4973822 , 0.49473684, 0.4973545 , 0.5       ,\n",
       "        0.5026738 , 0.5       , 0.4972973 , 0.5       , 0.50273224,\n",
       "        0.50549451, 0.50828729, 0.51111111, 0.51396648, 0.51685393,\n",
       "        0.51977401, 0.52272727, 0.52571429, 0.52873563, 0.53179191,\n",
       "        0.53488372, 0.5380117 , 0.53529412, 0.53846154, 0.54166667,\n",
       "        0.54491018, 0.54819277, 0.55151515, 0.54878049, 0.55214724,\n",
       "        0.54938272, 0.55279503, 0.55625   , 0.55974843, 0.55696203,\n",
       "        0.56050955, 0.56410256, 0.56129032, 0.56493506, 0.56862745,\n",
       "        0.56578947, 0.56953642, 0.56666667, 0.5704698 , 0.57432432,\n",
       "        0.57142857, 0.57534247, 0.57241379, 0.57638889, 0.58041958,\n",
       "        0.58450704, 0.58156028, 0.58571429, 0.58992806, 0.58695652,\n",
       "        0.59124088, 0.59558824, 0.6       , 0.59701493, 0.60150376,\n",
       "        0.60606061, 0.60305344, 0.6       , 0.60465116, 0.609375  ,\n",
       "        0.61417323, 0.61111111, 0.616     , 0.62096774, 0.62601626,\n",
       "        0.62295082, 0.61983471, 0.625     , 0.6302521 , 0.62711864,\n",
       "        0.62393162, 0.62068966, 0.62608696, 0.62280702, 0.61946903,\n",
       "        0.61607143, 0.61261261, 0.60909091, 0.6146789 , 0.62037037,\n",
       "        0.61682243, 0.62264151, 0.62857143, 0.625     , 0.63106796,\n",
       "        0.62745098, 0.62376238, 0.62      , 0.62626263, 0.63265306,\n",
       "        0.62886598, 0.63541667, 0.63157895, 0.63829787, 0.64516129,\n",
       "        0.65217391, 0.64835165, 0.65555556, 0.65168539, 0.64772727,\n",
       "        0.65517241, 0.6627907 , 0.67058824, 0.67857143, 0.68674699,\n",
       "        0.69512195, 0.7037037 , 0.7       , 0.70886076, 0.71794872,\n",
       "        0.72727273, 0.72368421, 0.72      , 0.72972973, 0.7260274 ,\n",
       "        0.72222222, 0.71830986, 0.72857143, 0.72463768, 0.73529412,\n",
       "        0.73134328, 0.72727273, 0.73846154, 0.734375  , 0.74603175,\n",
       "        0.75806452, 0.75409836, 0.75      , 0.76271186, 0.75862069,\n",
       "        0.75438596, 0.75      , 0.74545455, 0.74074074, 0.75471698,\n",
       "        0.75      , 0.74509804, 0.76      , 0.7755102 , 0.77083333,\n",
       "        0.76595745, 0.76086957, 0.77777778, 0.79545455, 0.81395349,\n",
       "        0.83333333, 0.85365854, 0.875     , 0.87179487, 0.86842105,\n",
       "        0.86486486, 0.86111111, 0.85714286, 0.85294118, 0.84848485,\n",
       "        0.84375   , 0.83870968, 0.83333333, 0.82758621, 0.82142857,\n",
       "        0.81481481, 0.80769231, 0.8       , 0.79166667, 0.7826087 ,\n",
       "        0.77272727, 0.76190476, 0.75      , 0.78947368, 0.77777778,\n",
       "        0.76470588, 0.75      , 0.8       , 0.78571429, 0.76923077,\n",
       "        0.83333333, 0.81818182, 0.8       , 0.77777778, 0.75      ,\n",
       "        0.71428571, 0.66666667, 0.6       , 0.75      , 1.        ,\n",
       "        1.        , 1.        , 1.        ]),\n",
       " array([1.        , 0.98979592, 0.97959184, 0.97959184, 0.97959184,\n",
       "        0.96938776, 0.96938776, 0.95918367, 0.95918367, 0.95918367,\n",
       "        0.95918367, 0.94897959, 0.93877551, 0.93877551, 0.93877551,\n",
       "        0.93877551, 0.93877551, 0.93877551, 0.93877551, 0.93877551,\n",
       "        0.93877551, 0.93877551, 0.93877551, 0.93877551, 0.93877551,\n",
       "        0.93877551, 0.93877551, 0.92857143, 0.92857143, 0.92857143,\n",
       "        0.92857143, 0.92857143, 0.92857143, 0.91836735, 0.91836735,\n",
       "        0.90816327, 0.90816327, 0.90816327, 0.90816327, 0.89795918,\n",
       "        0.89795918, 0.89795918, 0.8877551 , 0.8877551 , 0.8877551 ,\n",
       "        0.87755102, 0.87755102, 0.86734694, 0.86734694, 0.86734694,\n",
       "        0.85714286, 0.85714286, 0.84693878, 0.84693878, 0.84693878,\n",
       "        0.84693878, 0.83673469, 0.83673469, 0.83673469, 0.82653061,\n",
       "        0.82653061, 0.82653061, 0.82653061, 0.81632653, 0.81632653,\n",
       "        0.81632653, 0.80612245, 0.79591837, 0.79591837, 0.79591837,\n",
       "        0.79591837, 0.78571429, 0.78571429, 0.78571429, 0.78571429,\n",
       "        0.7755102 , 0.76530612, 0.76530612, 0.76530612, 0.75510204,\n",
       "        0.74489796, 0.73469388, 0.73469388, 0.7244898 , 0.71428571,\n",
       "        0.70408163, 0.69387755, 0.68367347, 0.68367347, 0.68367347,\n",
       "        0.67346939, 0.67346939, 0.67346939, 0.66326531, 0.66326531,\n",
       "        0.65306122, 0.64285714, 0.63265306, 0.63265306, 0.63265306,\n",
       "        0.62244898, 0.62244898, 0.6122449 , 0.6122449 , 0.6122449 ,\n",
       "        0.6122449 , 0.60204082, 0.60204082, 0.59183673, 0.58163265,\n",
       "        0.58163265, 0.58163265, 0.58163265, 0.58163265, 0.58163265,\n",
       "        0.58163265, 0.58163265, 0.57142857, 0.57142857, 0.57142857,\n",
       "        0.57142857, 0.56122449, 0.55102041, 0.55102041, 0.54081633,\n",
       "        0.53061224, 0.52040816, 0.52040816, 0.51020408, 0.51020408,\n",
       "        0.5       , 0.48979592, 0.48979592, 0.47959184, 0.47959184,\n",
       "        0.47959184, 0.46938776, 0.45918367, 0.45918367, 0.44897959,\n",
       "        0.43877551, 0.42857143, 0.41836735, 0.40816327, 0.40816327,\n",
       "        0.39795918, 0.3877551 , 0.3877551 , 0.3877551 , 0.37755102,\n",
       "        0.36734694, 0.35714286, 0.35714286, 0.35714286, 0.35714286,\n",
       "        0.35714286, 0.35714286, 0.35714286, 0.34693878, 0.33673469,\n",
       "        0.32653061, 0.31632653, 0.30612245, 0.29591837, 0.28571429,\n",
       "        0.2755102 , 0.26530612, 0.25510204, 0.24489796, 0.23469388,\n",
       "        0.2244898 , 0.21428571, 0.20408163, 0.19387755, 0.18367347,\n",
       "        0.17346939, 0.16326531, 0.15306122, 0.15306122, 0.14285714,\n",
       "        0.13265306, 0.12244898, 0.12244898, 0.1122449 , 0.10204082,\n",
       "        0.10204082, 0.09183673, 0.08163265, 0.07142857, 0.06122449,\n",
       "        0.05102041, 0.04081633, 0.03061224, 0.03061224, 0.03061224,\n",
       "        0.02040816, 0.01020408, 0.        ]),\n",
       " array([0.07073872, 0.07492334, 0.08668825, 0.09673339, 0.10160274,\n",
       "        0.10850624, 0.11765768, 0.13781334, 0.1387966 , 0.13961478,\n",
       "        0.15190177, 0.15200061, 0.15733163, 0.15876748, 0.16073298,\n",
       "        0.1615582 , 0.16654799, 0.16870812, 0.173184  , 0.17884898,\n",
       "        0.18570984, 0.19601518, 0.21195512, 0.21235997, 0.21360642,\n",
       "        0.2177899 , 0.2281761 , 0.23908033, 0.25524525, 0.25935972,\n",
       "        0.26019936, 0.27141442, 0.27419836, 0.27559374, 0.27591229,\n",
       "        0.27647238, 0.28207412, 0.28255693, 0.28297781, 0.29683666,\n",
       "        0.29957253, 0.30069636, 0.30578731, 0.31066455, 0.31212154,\n",
       "        0.31391685, 0.3142305 , 0.32071136, 0.32251018, 0.3304837 ,\n",
       "        0.3435888 , 0.3452384 , 0.35819307, 0.36018868, 0.36661136,\n",
       "        0.36969124, 0.37385575, 0.38231536, 0.38520436, 0.39172819,\n",
       "        0.40863332, 0.41374898, 0.41758012, 0.42145995, 0.42459981,\n",
       "        0.42553822, 0.42802822, 0.43658125, 0.43795397, 0.44154691,\n",
       "        0.44660932, 0.45395143, 0.45726078, 0.46825773, 0.4704386 ,\n",
       "        0.47607135, 0.48109823, 0.48618687, 0.488522  , 0.48878149,\n",
       "        0.48895693, 0.49100999, 0.49145141, 0.49358104, 0.49421931,\n",
       "        0.50471574, 0.50679689, 0.510993  , 0.5113262 , 0.51274539,\n",
       "        0.51492384, 0.52761944, 0.5327331 , 0.5351787 , 0.53604793,\n",
       "        0.53780316, 0.53946648, 0.54080628, 0.54292878, 0.543229  ,\n",
       "        0.5461615 , 0.55256035, 0.55356673, 0.55749424, 0.55852593,\n",
       "        0.56302904, 0.56343104, 0.56794447, 0.5723972 , 0.57380112,\n",
       "        0.58059146, 0.58299764, 0.5923627 , 0.59586703, 0.60753108,\n",
       "        0.60912592, 0.61375105, 0.62442231, 0.62481916, 0.62768102,\n",
       "        0.63459445, 0.64177515, 0.64374142, 0.65993208, 0.67956276,\n",
       "        0.68259759, 0.68383231, 0.68715539, 0.6941206 , 0.7007809 ,\n",
       "        0.7115411 , 0.71177385, 0.71211439, 0.71215399, 0.72003289,\n",
       "        0.72581952, 0.72858527, 0.73429557, 0.73703359, 0.73942573,\n",
       "        0.74709905, 0.74721073, 0.75099215, 0.75331653, 0.75543479,\n",
       "        0.76611861, 0.76832476, 0.769101  , 0.77290241, 0.77507726,\n",
       "        0.77972638, 0.77981982, 0.78358071, 0.7841785 , 0.78428865,\n",
       "        0.78445976, 0.79537178, 0.79957375, 0.80196649, 0.80425575,\n",
       "        0.8062029 , 0.81464206, 0.81484204, 0.81570781, 0.81688824,\n",
       "        0.81804067, 0.82241971, 0.82616958, 0.83804808, 0.84185258,\n",
       "        0.84335336, 0.84354614, 0.85025228, 0.86317444, 0.87341456,\n",
       "        0.88077269, 0.88327788, 0.88336326, 0.88517243, 0.88837014,\n",
       "        0.89502481, 0.8993922 , 0.90220874, 0.90372708, 0.90527026,\n",
       "        0.91302463, 0.91810515, 0.9212357 , 0.92454172, 0.92631736,\n",
       "        0.9315004 , 0.9363421 , 0.95696631, 0.96108126, 0.96355926,\n",
       "        0.96451478, 0.97307949]))"
      ]
     },
     "execution_count": 59,
     "metadata": {},
     "output_type": "execute_result"
    }
   ],
   "source": [
    "prc = precision_recall_curve(y, score_logreg)\n",
    "prc"
   ]
  },
  {
   "cell_type": "code",
   "execution_count": 60,
   "metadata": {},
   "outputs": [
    {
     "data": {
      "image/png": "[encoded data removed]",
      "text/plain": [
       "<Figure size 432x288 with 1 Axes>"
      ]
     },
     "metadata": {
      "needs_background": "light"
     },
     "output_type": "display_data"
    }
   ],
   "source": [
    "for algorythm in data_scores_pd.columns[1:]:\n",
    "    yscores = data_scores_pd[algorythm]    \n",
    "    precision, recall, thresholds = precision_recall_curve(y, yscores)\n",
    "    plt.plot(recall, precision, label = algorythm)\n",
    "    plt.xlim(0.7,1)\n",
    "    plt.ylim(0.5, 0.7)\n",
    "    plt.legend()"
   ]
  },
  {
   "cell_type": "code",
   "execution_count": null,
   "metadata": {},
   "outputs": [],
   "source": []
  },
  {
   "cell_type": "code",
   "execution_count": null,
   "metadata": {},
   "outputs": [],
   "source": []
  },
  {
   "cell_type": "code",
   "execution_count": null,
   "metadata": {},
   "outputs": [],
   "source": []
  },
  {
   "cell_type": "code",
   "execution_count": null,
   "metadata": {},
   "outputs": [],
   "source": []
  },
  {
   "cell_type": "code",
   "execution_count": null,
   "metadata": {},
   "outputs": [],
   "source": []
  },
  {
   "cell_type": "code",
   "execution_count": null,
   "metadata": {},
   "outputs": [],
   "source": []
  }
 ],
 "metadata": {
  "kernelspec": {
   "display_name": "Python 3",
   "language": "python",
   "name": "python3"
  },
  "language_info": {
   "codemirror_mode": {
    "name": "ipython",
    "version": 3
   },
   "file_extension": ".py",
   "mimetype": "text/x-python",
   "name": "python",
   "nbconvert_exporter": "python",
   "pygments_lexer": "ipython3",
   "version": "3.8.5"
  }
 },
 "nbformat": 4,
 "nbformat_minor": 4
}
