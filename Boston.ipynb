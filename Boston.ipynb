{
 "cells": [
  {
   "cell_type": "code",
   "execution_count": 9,
   "metadata": {},
   "outputs": [],
   "source": [
    "import numpy as np\n",
    "import pandas as pd\n",
    "from sklearn.model_selection import KFold, cross_val_score"
   ]
  },
  {
   "cell_type": "code",
   "execution_count": 3,
   "metadata": {},
   "outputs": [
    {
     "name": "stdout",
     "output_type": "stream",
     "text": [
      "(506, 13)\n"
     ]
    }
   ],
   "source": [
    "from sklearn.datasets import load_boston\n",
    "x, y = load_boston(return_X_y=True)\n",
    "print(x.shape)"
   ]
  },
  {
   "cell_type": "code",
   "execution_count": 4,
   "metadata": {},
   "outputs": [],
   "source": [
    "from sklearn.preprocessing import scale\n",
    "x_scale = scale(x)"
   ]
  },
  {
   "cell_type": "code",
   "execution_count": 26,
   "metadata": {},
   "outputs": [
    {
     "name": "stdout",
     "output_type": "stream",
     "text": [
      "-13.671671736762704\n",
      "-14.419186467975038\n",
      "-14.640938952326401\n",
      "-14.26274636874634\n",
      "-13.983704473535875\n",
      "-13.950350806588604\n",
      "-13.861546864134084\n",
      "-13.954789025662768\n",
      "-14.137943476368642\n",
      "-13.833547884173196\n",
      "максимальное качество: -13.671671736762704 при p = 1.0\n"
     ]
    }
   ],
   "source": [
    "from sklearn.neighbors import KNeighborsRegressor\n",
    "a = np.linspace(1, 10, 10)\n",
    "quality_max = -100000\n",
    "k = 0\n",
    "for p in a:\n",
    "    model = KNeighborsRegressor(n_neighbors=5, weights='distance', p=p, metric='minkowski')\n",
    "    quality = np.max(cross_val_score(model, x_scale, y, cv=5, scoring='neg_mean_squared_error'))\n",
    "    print(quality)\n",
    "    if quality > quality_max:\n",
    "        quality_max = quality\n",
    "        k = p\n",
    "print('максимальное качество:', quality_max, 'при p =', k)"
   ]
  },
  {
   "cell_type": "code",
   "execution_count": null,
   "metadata": {},
   "outputs": [],
   "source": []
  }
 ],
 "metadata": {
  "kernelspec": {
   "display_name": "Python 3",
   "language": "python",
   "name": "python3"
  },
  "language_info": {
   "codemirror_mode": {
    "name": "ipython",
    "version": 3
   },
   "file_extension": ".py",
   "mimetype": "text/x-python",
   "name": "python",
   "nbconvert_exporter": "python",
   "pygments_lexer": "ipython3",
   "version": "3.8.5"
  }
 },
 "nbformat": 4,
 "nbformat_minor": 4
}
